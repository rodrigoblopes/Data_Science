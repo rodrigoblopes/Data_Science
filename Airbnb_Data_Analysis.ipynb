{
  "nbformat": 4,
  "nbformat_minor": 0,
  "metadata": {
    "colab": {
      "provenance": [],
      "toc_visible": true,
      "include_colab_link": true
    },
    "kernelspec": {
      "name": "python3",
      "display_name": "Python 3"
    }
  },
  "cells": [
    {
      "cell_type": "markdown",
      "metadata": {
        "id": "view-in-github",
        "colab_type": "text"
      },
      "source": [
        "<a href=\"https://colab.research.google.com/github/rodrigoblopes/data_science/blob/main/Airbnb_Data_Analysis.ipynb\" target=\"_parent\"><img src=\"https://colab.research.google.com/assets/colab-badge.svg\" alt=\"Open In Colab\"/></a>"
      ]
    },
    {
      "cell_type": "markdown",
      "metadata": {
        "id": "kLI0gJtzDGuQ"
      },
      "source": [
        "<img alt=\"Rodrigo's Logo\" width=\"100%\" src=\"https://github.com/rodrigoblopes/data_science/blob/airbnb_sydney_analysis/banner_airbnbdataanalysis.png?raw=true\">\n",
        "\n",
        "\n",
        "---\n",
        "\n",
        "# Airbnb Data Analysis- *Sydney*\n",
        "\n",
        "Airbnb is already considered to be the largest hotel company of today, though it does not own any hotels. By connecting people who want to travel (and stay) with hosts who want to rent out their properties in a practical way, Airbnb provides an innovative platform for alternative lodging.\n",
        "\n",
        "\n",
        "As of the end of 2018, the startup founded in 2008 had already hosted over 300 million people around the world, challenging traditional hotel chains.\n",
        "\n",
        "One of Airbnb's initiatives is to make data from the site available for some of the major cities in the world. Through the [Inside Airbnb](http://insideairbnb.com/get-the-data.html) portal, it is possible to download a large amount of data to develop projects and data science solutions.\n",
        "\n",
        "<center><img alt=\"Analisando Airbnb\" width=\"10%\" src=\"https://www.area360.com.au/wp-content/uploads/2017/09/airbnb-logo.jpg\"></center>\n",
        "\n",
        "In this notebook, we will analyze data related to the city of Sydney, Australia, and see what insights can be extracted from raw data."
      ]
    },
    {
      "cell_type": "markdown",
      "metadata": {
        "id": "0zxQHhIUDF_2"
      },
      "source": [
        "## Obtaining Data\n",
        "All of the data used here was obtained from the [Inside Airbnb](http://insideairbnb.com/get-the-data.html) website.\n",
        "\n",
        "For this initial exploratory analysis, we will only download the following file:\n",
        "\n",
        "* `listings.csv` - *Summary information and metrics for listings in Sydney (good for visualisations).*\n",
        "\n",
        "It's important to note that the portal is constantly evolving, and at some point, the exact dataset used in this notebook may not be available anymore, which would break our code.\n",
        "\n",
        "With that in mind, let's move on to the project."
      ]
    },
    {
      "cell_type": "code",
      "metadata": {
        "id": "Vhp2wMPgJ6zX"
      },
      "source": [
        "# import packages\n",
        "import pandas as pd\n",
        "import matplotlib.pyplot as plt\n",
        "import seaborn as sns\n",
        "\n",
        "%matplotlib inline"
      ],
      "execution_count": null,
      "outputs": []
    },
    {
      "cell_type": "code",
      "metadata": {
        "id": "tUmoAT8DLQ5T"
      },
      "source": [
        "# import file listings.csv to a DataFrame and set the column id as index\n",
        "df = pd.read_csv ('http://data.insideairbnb.com/australia/nsw/sydney/2022-12-10/visualisations/listings.csv', \n",
        "                  index_col='id',parse_dates=True)"
      ],
      "execution_count": null,
      "outputs": []
    },
    {
      "cell_type": "markdown",
      "metadata": {
        "id": "qb5By2nIMS6m"
      },
      "source": [
        "## Data Analysis\n",
        "\n",
        "This step aims to create an initial situational awareness and allow an understanding of how the data is structured."
      ]
    },
    {
      "cell_type": "markdown",
      "metadata": {
        "id": "RYgvuebKNg8-"
      },
      "source": [
        "**Variable Dictionary**\n",
        "\n",
        "* `id` - ID number to identify the property\n",
        "* `name` - name of the advertised property\n",
        "* `host_id` - ID number of the property owner (host)\n",
        "* `host_name` - host's name\n",
        "* `neighbourhood_group` - this column does not contain any valid value\n",
        "* `neighbourhood` - neighborhood name\n",
        "* `latitude` - property's latitude coordinate\n",
        "* `longitude` - property's longitude coordinate\n",
        "* `room_type` - type of room offered\n",
        "* `price` - rental price of the property\n",
        "* `minimum_nights` - minimum number of nights to book\n",
        "* `number_of_reviews` - number of reviews the property has received\n",
        "* `last_review` - date of the last review\n",
        "* `reviews_per_month` - number of reviews per month\n",
        "* `calculated_host_listings_count` - number of properties listed by the same host\n",
        "* `availability_365` - number of available days within 365 days\n",
        "\n",
        "Before we start any analysis, let's analyse our dataset structure, checking the first 5 entries."
      ]
    },
    {
      "cell_type": "code",
      "metadata": {
        "id": "2iS_dae7YQtO",
        "colab": {
          "base_uri": "https://localhost:8080/",
          "height": 492
        },
        "outputId": "bce381f7-f20d-4360-9967-a0ea9969233b"
      },
      "source": [
        "# show first 5 entries\n",
        "df.head()"
      ],
      "execution_count": null,
      "outputs": [
        {
          "output_type": "execute_result",
          "data": {
            "text/plain": [
              "                                                   name  host_id host_name  \\\n",
              "id                                                                           \n",
              "587669                         Magnificent ocean views!  2908016    Bobbie   \n",
              "11156                              An Oasis in the City    40855   Colleen   \n",
              "591662  Breathtaking iconic Bondi Beach and ocean views  1468090     Rahel   \n",
              "14250                               Manly Harbour House    55948     Heidi   \n",
              "834482              Dee Why 2 bed unit- stroll to beach  4365688     Lorna   \n",
              "\n",
              "        neighbourhood_group neighbourhood  latitude  longitude  \\\n",
              "id                                                               \n",
              "587669                  NaN     Pittwater -33.60319  151.33141   \n",
              "11156                   NaN        Sydney -33.86767  151.22497   \n",
              "591662                  NaN      Waverley -33.89603  151.27194   \n",
              "14250                   NaN         Manly -33.80084  151.26378   \n",
              "834482                  NaN     Warringah -33.75705  151.29197   \n",
              "\n",
              "              room_type  price  minimum_nights  number_of_reviews last_review  \\\n",
              "id                                                                              \n",
              "587669  Entire home/apt    750               2                 93  2022-10-29   \n",
              "11156      Private room     65              90                195  2020-03-13   \n",
              "591662  Entire home/apt    350              90                 55  2020-06-22   \n",
              "14250   Entire home/apt    470               2                  3  2021-06-01   \n",
              "834482     Private room    140              90                  0         NaN   \n",
              "\n",
              "        reviews_per_month  calculated_host_listings_count  availability_365  \\\n",
              "id                                                                            \n",
              "587669               0.90                               1                 0   \n",
              "11156                1.23                               1               364   \n",
              "591662               0.45                               1               104   \n",
              "14250                0.04                               2                 0   \n",
              "834482                NaN                               1                 0   \n",
              "\n",
              "        number_of_reviews_ltm         license  \n",
              "id                                             \n",
              "587669                     11  PID-STRA-25259  \n",
              "11156                       0             NaN  \n",
              "591662                      0             NaN  \n",
              "14250                       0          Exempt  \n",
              "834482                      0             NaN  "
            ],
            "text/html": [
              "\n",
              "  <div id=\"df-fe4ac6ce-ddd6-4778-87d2-d6ada5be1c77\">\n",
              "    <div class=\"colab-df-container\">\n",
              "      <div>\n",
              "<style scoped>\n",
              "    .dataframe tbody tr th:only-of-type {\n",
              "        vertical-align: middle;\n",
              "    }\n",
              "\n",
              "    .dataframe tbody tr th {\n",
              "        vertical-align: top;\n",
              "    }\n",
              "\n",
              "    .dataframe thead th {\n",
              "        text-align: right;\n",
              "    }\n",
              "</style>\n",
              "<table border=\"1\" class=\"dataframe\">\n",
              "  <thead>\n",
              "    <tr style=\"text-align: right;\">\n",
              "      <th></th>\n",
              "      <th>name</th>\n",
              "      <th>host_id</th>\n",
              "      <th>host_name</th>\n",
              "      <th>neighbourhood_group</th>\n",
              "      <th>neighbourhood</th>\n",
              "      <th>latitude</th>\n",
              "      <th>longitude</th>\n",
              "      <th>room_type</th>\n",
              "      <th>price</th>\n",
              "      <th>minimum_nights</th>\n",
              "      <th>number_of_reviews</th>\n",
              "      <th>last_review</th>\n",
              "      <th>reviews_per_month</th>\n",
              "      <th>calculated_host_listings_count</th>\n",
              "      <th>availability_365</th>\n",
              "      <th>number_of_reviews_ltm</th>\n",
              "      <th>license</th>\n",
              "    </tr>\n",
              "    <tr>\n",
              "      <th>id</th>\n",
              "      <th></th>\n",
              "      <th></th>\n",
              "      <th></th>\n",
              "      <th></th>\n",
              "      <th></th>\n",
              "      <th></th>\n",
              "      <th></th>\n",
              "      <th></th>\n",
              "      <th></th>\n",
              "      <th></th>\n",
              "      <th></th>\n",
              "      <th></th>\n",
              "      <th></th>\n",
              "      <th></th>\n",
              "      <th></th>\n",
              "      <th></th>\n",
              "      <th></th>\n",
              "    </tr>\n",
              "  </thead>\n",
              "  <tbody>\n",
              "    <tr>\n",
              "      <th>587669</th>\n",
              "      <td>Magnificent ocean views!</td>\n",
              "      <td>2908016</td>\n",
              "      <td>Bobbie</td>\n",
              "      <td>NaN</td>\n",
              "      <td>Pittwater</td>\n",
              "      <td>-33.60319</td>\n",
              "      <td>151.33141</td>\n",
              "      <td>Entire home/apt</td>\n",
              "      <td>750</td>\n",
              "      <td>2</td>\n",
              "      <td>93</td>\n",
              "      <td>2022-10-29</td>\n",
              "      <td>0.90</td>\n",
              "      <td>1</td>\n",
              "      <td>0</td>\n",
              "      <td>11</td>\n",
              "      <td>PID-STRA-25259</td>\n",
              "    </tr>\n",
              "    <tr>\n",
              "      <th>11156</th>\n",
              "      <td>An Oasis in the City</td>\n",
              "      <td>40855</td>\n",
              "      <td>Colleen</td>\n",
              "      <td>NaN</td>\n",
              "      <td>Sydney</td>\n",
              "      <td>-33.86767</td>\n",
              "      <td>151.22497</td>\n",
              "      <td>Private room</td>\n",
              "      <td>65</td>\n",
              "      <td>90</td>\n",
              "      <td>195</td>\n",
              "      <td>2020-03-13</td>\n",
              "      <td>1.23</td>\n",
              "      <td>1</td>\n",
              "      <td>364</td>\n",
              "      <td>0</td>\n",
              "      <td>NaN</td>\n",
              "    </tr>\n",
              "    <tr>\n",
              "      <th>591662</th>\n",
              "      <td>Breathtaking iconic Bondi Beach and ocean views</td>\n",
              "      <td>1468090</td>\n",
              "      <td>Rahel</td>\n",
              "      <td>NaN</td>\n",
              "      <td>Waverley</td>\n",
              "      <td>-33.89603</td>\n",
              "      <td>151.27194</td>\n",
              "      <td>Entire home/apt</td>\n",
              "      <td>350</td>\n",
              "      <td>90</td>\n",
              "      <td>55</td>\n",
              "      <td>2020-06-22</td>\n",
              "      <td>0.45</td>\n",
              "      <td>1</td>\n",
              "      <td>104</td>\n",
              "      <td>0</td>\n",
              "      <td>NaN</td>\n",
              "    </tr>\n",
              "    <tr>\n",
              "      <th>14250</th>\n",
              "      <td>Manly Harbour House</td>\n",
              "      <td>55948</td>\n",
              "      <td>Heidi</td>\n",
              "      <td>NaN</td>\n",
              "      <td>Manly</td>\n",
              "      <td>-33.80084</td>\n",
              "      <td>151.26378</td>\n",
              "      <td>Entire home/apt</td>\n",
              "      <td>470</td>\n",
              "      <td>2</td>\n",
              "      <td>3</td>\n",
              "      <td>2021-06-01</td>\n",
              "      <td>0.04</td>\n",
              "      <td>2</td>\n",
              "      <td>0</td>\n",
              "      <td>0</td>\n",
              "      <td>Exempt</td>\n",
              "    </tr>\n",
              "    <tr>\n",
              "      <th>834482</th>\n",
              "      <td>Dee Why 2 bed unit- stroll to beach</td>\n",
              "      <td>4365688</td>\n",
              "      <td>Lorna</td>\n",
              "      <td>NaN</td>\n",
              "      <td>Warringah</td>\n",
              "      <td>-33.75705</td>\n",
              "      <td>151.29197</td>\n",
              "      <td>Private room</td>\n",
              "      <td>140</td>\n",
              "      <td>90</td>\n",
              "      <td>0</td>\n",
              "      <td>NaN</td>\n",
              "      <td>NaN</td>\n",
              "      <td>1</td>\n",
              "      <td>0</td>\n",
              "      <td>0</td>\n",
              "      <td>NaN</td>\n",
              "    </tr>\n",
              "  </tbody>\n",
              "</table>\n",
              "</div>\n",
              "      <button class=\"colab-df-convert\" onclick=\"convertToInteractive('df-fe4ac6ce-ddd6-4778-87d2-d6ada5be1c77')\"\n",
              "              title=\"Convert this dataframe to an interactive table.\"\n",
              "              style=\"display:none;\">\n",
              "        \n",
              "  <svg xmlns=\"http://www.w3.org/2000/svg\" height=\"24px\"viewBox=\"0 0 24 24\"\n",
              "       width=\"24px\">\n",
              "    <path d=\"M0 0h24v24H0V0z\" fill=\"none\"/>\n",
              "    <path d=\"M18.56 5.44l.94 2.06.94-2.06 2.06-.94-2.06-.94-.94-2.06-.94 2.06-2.06.94zm-11 1L8.5 8.5l.94-2.06 2.06-.94-2.06-.94L8.5 2.5l-.94 2.06-2.06.94zm10 10l.94 2.06.94-2.06 2.06-.94-2.06-.94-.94-2.06-.94 2.06-2.06.94z\"/><path d=\"M17.41 7.96l-1.37-1.37c-.4-.4-.92-.59-1.43-.59-.52 0-1.04.2-1.43.59L10.3 9.45l-7.72 7.72c-.78.78-.78 2.05 0 2.83L4 21.41c.39.39.9.59 1.41.59.51 0 1.02-.2 1.41-.59l7.78-7.78 2.81-2.81c.8-.78.8-2.07 0-2.86zM5.41 20L4 18.59l7.72-7.72 1.47 1.35L5.41 20z\"/>\n",
              "  </svg>\n",
              "      </button>\n",
              "      \n",
              "  <style>\n",
              "    .colab-df-container {\n",
              "      display:flex;\n",
              "      flex-wrap:wrap;\n",
              "      gap: 12px;\n",
              "    }\n",
              "\n",
              "    .colab-df-convert {\n",
              "      background-color: #E8F0FE;\n",
              "      border: none;\n",
              "      border-radius: 50%;\n",
              "      cursor: pointer;\n",
              "      display: none;\n",
              "      fill: #1967D2;\n",
              "      height: 32px;\n",
              "      padding: 0 0 0 0;\n",
              "      width: 32px;\n",
              "    }\n",
              "\n",
              "    .colab-df-convert:hover {\n",
              "      background-color: #E2EBFA;\n",
              "      box-shadow: 0px 1px 2px rgba(60, 64, 67, 0.3), 0px 1px 3px 1px rgba(60, 64, 67, 0.15);\n",
              "      fill: #174EA6;\n",
              "    }\n",
              "\n",
              "    [theme=dark] .colab-df-convert {\n",
              "      background-color: #3B4455;\n",
              "      fill: #D2E3FC;\n",
              "    }\n",
              "\n",
              "    [theme=dark] .colab-df-convert:hover {\n",
              "      background-color: #434B5C;\n",
              "      box-shadow: 0px 1px 3px 1px rgba(0, 0, 0, 0.15);\n",
              "      filter: drop-shadow(0px 1px 2px rgba(0, 0, 0, 0.3));\n",
              "      fill: #FFFFFF;\n",
              "    }\n",
              "  </style>\n",
              "\n",
              "      <script>\n",
              "        const buttonEl =\n",
              "          document.querySelector('#df-fe4ac6ce-ddd6-4778-87d2-d6ada5be1c77 button.colab-df-convert');\n",
              "        buttonEl.style.display =\n",
              "          google.colab.kernel.accessAllowed ? 'block' : 'none';\n",
              "\n",
              "        async function convertToInteractive(key) {\n",
              "          const element = document.querySelector('#df-fe4ac6ce-ddd6-4778-87d2-d6ada5be1c77');\n",
              "          const dataTable =\n",
              "            await google.colab.kernel.invokeFunction('convertToInteractive',\n",
              "                                                     [key], {});\n",
              "          if (!dataTable) return;\n",
              "\n",
              "          const docLinkHtml = 'Like what you see? Visit the ' +\n",
              "            '<a target=\"_blank\" href=https://colab.research.google.com/notebooks/data_table.ipynb>data table notebook</a>'\n",
              "            + ' to learn more about interactive tables.';\n",
              "          element.innerHTML = '';\n",
              "          dataTable['output_type'] = 'display_data';\n",
              "          await google.colab.output.renderOutput(dataTable, element);\n",
              "          const docLink = document.createElement('div');\n",
              "          docLink.innerHTML = docLinkHtml;\n",
              "          element.appendChild(docLink);\n",
              "        }\n",
              "      </script>\n",
              "    </div>\n",
              "  </div>\n",
              "  "
            ]
          },
          "metadata": {},
          "execution_count": 3
        }
      ]
    },
    {
      "cell_type": "markdown",
      "metadata": {
        "id": "6-B_qtEaYEd-"
      },
      "source": [
        "### **Q1. How many attributes (variables) and how many entries does our dataset have? What are the types of variables?**\n",
        "\n",
        "Let's proceed and identify the number of entries our dataset has and take a look at the data types of each column.\n",
        "\n",
        "We can notice this csv it has `22100` entries and `17` variables.\n"
      ]
    },
    {
      "cell_type": "code",
      "metadata": {
        "id": "TFRK0tniLV-G",
        "colab": {
          "base_uri": "https://localhost:8080/"
        },
        "outputId": "01942eaf-2027-49d2-da4c-446786ba2c51"
      },
      "source": [
        "# identify the data volume of the dataframe \n",
        "print(\"Entries:\\t {}\".format(df.shape[0]))\n",
        "print(\"Variables:\\t {}\".format(df.shape[1]))\n",
        "\n",
        "# show first 5 entries of the dataset\n",
        "print(df.dtypes)"
      ],
      "execution_count": null,
      "outputs": [
        {
          "output_type": "stream",
          "name": "stdout",
          "text": [
            "Entries:\t 22100\n",
            "Variables:\t 17\n",
            "name                               object\n",
            "host_id                             int64\n",
            "host_name                          object\n",
            "neighbourhood_group               float64\n",
            "neighbourhood                      object\n",
            "latitude                          float64\n",
            "longitude                         float64\n",
            "room_type                          object\n",
            "price                               int64\n",
            "minimum_nights                      int64\n",
            "number_of_reviews                   int64\n",
            "last_review                        object\n",
            "reviews_per_month                 float64\n",
            "calculated_host_listings_count      int64\n",
            "availability_365                    int64\n",
            "number_of_reviews_ltm               int64\n",
            "license                            object\n",
            "dtype: object\n"
          ]
        }
      ]
    },
    {
      "cell_type": "markdown",
      "metadata": {
        "id": "yz1urSUGW9iE"
      },
      "source": [
        "### **Q2. What is the missing percentage on the dataset?**\n",
        "\n",
        "The integrity of a dataset is closely tied to the number of absent values. It is crucial to determine early on whether these missing values have a significant impact in relation to the total number of observations.\n",
        "\n",
        "* We can observe that the `neighbourhood_group` column is completely devoid of values.\n",
        "* The variable `license` has slightly less than 50% with values filled.\n",
        "* A little over 1/4 of the rows contain null values in the `reviews_per_month` and `last_review` variables. **bold text**\n",
        "* The `name` and `host_name` variables exhibit less than 0.1% of missing values."
      ]
    },
    {
      "cell_type": "code",
      "metadata": {
        "id": "plk2FjbCXOqP",
        "colab": {
          "base_uri": "https://localhost:8080/"
        },
        "outputId": "d34b7b15-cbfd-4574-a9ee-48df6a78bae1"
      },
      "source": [
        "# order by descending the empty variables\n",
        "(df.isnull().sum() / df.shape[0]).sort_values(ascending=False)"
      ],
      "execution_count": null,
      "outputs": [
        {
          "output_type": "execute_result",
          "data": {
            "text/plain": [
              "neighbourhood_group               1.000000\n",
              "license                           0.514072\n",
              "last_review                       0.277738\n",
              "reviews_per_month                 0.277738\n",
              "name                              0.000317\n",
              "host_name                         0.000090\n",
              "latitude                          0.000000\n",
              "longitude                         0.000000\n",
              "room_type                         0.000000\n",
              "host_id                           0.000000\n",
              "minimum_nights                    0.000000\n",
              "number_of_reviews                 0.000000\n",
              "neighbourhood                     0.000000\n",
              "calculated_host_listings_count    0.000000\n",
              "availability_365                  0.000000\n",
              "number_of_reviews_ltm             0.000000\n",
              "price                             0.000000\n",
              "dtype: float64"
            ]
          },
          "metadata": {},
          "execution_count": 5
        }
      ]
    },
    {
      "cell_type": "markdown",
      "metadata": {
        "id": "iHXvvHIxaoNc"
      },
      "source": [
        "### **T3. What is the type of distribution of the variables?**\n",
        "\n",
        "To identify the distribution of the variables, I will plot the histogram.\n",
        "\n",
        "At this point, we'll plot the histogram to analyse the distribution of the variables to understand patterns through the data distribution and identify possible outliers."
      ]
    },
    {
      "cell_type": "code",
      "metadata": {
        "id": "q2wWSfeRbmBo",
        "colab": {
          "base_uri": "https://localhost:8080/",
          "height": 607
        },
        "outputId": "7c5b70c2-e31e-4e1d-dcd0-e5a5ee378699"
      },
      "source": [
        "# plot histogram from numeric variables\n",
        "df.hist(bins=15, figsize=(15,10));"
      ],
      "execution_count": null,
      "outputs": [
        {
          "output_type": "display_data",
          "data": {
            "text/plain": [
              "<Figure size 1080x720 with 12 Axes>"
            ],
            "image/png": "[encoded data removed]"
          },
          "metadata": {
            "needs_background": "light"
          }
        }
      ]
    },
    {
      "cell_type": "markdown",
      "source": [
        "##Q4. Are there outliers?\n",
        "\n",
        "Variables like `price` is a good example of outliers. Apparently, we will find some places where the price will reach **$60k per night**.\n",
        "Another interesting variable is `minimum nights` where there is value above \n",
        "**1000 nights**.\n",
        "\n",
        "However, `number of reviews` does not sound to be a problem since we know many hosters rent often their place.\n",
        "\n",
        "It's important to remember we are not looking for a model 100% accurate. We'll need to work with an abstrat model.\n",
        "\n",
        "The values do not follow a distribution, and distort the entire graphical representation. To confirm, there are two quick ways to help detect outliers. Are they:\n",
        "\n",
        "* Statistical summary via `describe()` method\n",
        "* Plot `boxplots` to a variable.\n",
        "\n",
        "\n",
        "\n",
        "---\n",
        "**IMPORTANT: For this project, we'll consider as outlier the 1% extreme high for `minimum_night`and `price`.**\n",
        "\n",
        "---\n",
        "\n"
      ],
      "metadata": {
        "id": "6YSXRA-eD67P"
      }
    },
    {
      "cell_type": "code",
      "source": [
        "# see the statistical summary of numeric variables\n",
        "df[['price', 'minimum_nights', 'number_of_reviews', 'reviews_per_month', 'calculated_host_listings_count', 'availability_365']].describe()"
      ],
      "metadata": {
        "colab": {
          "base_uri": "https://localhost:8080/",
          "height": 300
        },
        "id": "BDAtHVtsLisu",
        "outputId": "800f2b1f-892e-42ee-cd78-8e751a835754"
      },
      "execution_count": null,
      "outputs": [
        {
          "output_type": "execute_result",
          "data": {
            "text/plain": [
              "              price  minimum_nights  number_of_reviews  reviews_per_month  \\\n",
              "count  22100.000000    22100.000000       22100.000000       15962.000000   \n",
              "mean     322.254389       53.436606          20.211946           0.878738   \n",
              "std      972.621439       53.572724          47.838680           1.291013   \n",
              "min       12.000000        1.000000           0.000000           0.010000   \n",
              "25%       93.000000        3.000000           0.000000           0.060000   \n",
              "50%      172.000000       90.000000           3.000000           0.300000   \n",
              "75%      314.000000       90.000000          16.000000           1.250000   \n",
              "max    63537.000000     1125.000000         859.000000          21.960000   \n",
              "\n",
              "       calculated_host_listings_count  availability_365  \n",
              "count                    22100.000000      22100.000000  \n",
              "mean                        10.580362        100.163303  \n",
              "std                         30.624311        126.555765  \n",
              "min                          1.000000          0.000000  \n",
              "25%                          1.000000          0.000000  \n",
              "50%                          1.000000         32.000000  \n",
              "75%                          3.000000        180.000000  \n",
              "max                        197.000000        365.000000  "
            ],
            "text/html": [
              "\n",
              "  <div id=\"df-85cd51df-e751-456c-a4a1-97fbea4a378a\">\n",
              "    <div class=\"colab-df-container\">\n",
              "      <div>\n",
              "<style scoped>\n",
              "    .dataframe tbody tr th:only-of-type {\n",
              "        vertical-align: middle;\n",
              "    }\n",
              "\n",
              "    .dataframe tbody tr th {\n",
              "        vertical-align: top;\n",
              "    }\n",
              "\n",
              "    .dataframe thead th {\n",
              "        text-align: right;\n",
              "    }\n",
              "</style>\n",
              "<table border=\"1\" class=\"dataframe\">\n",
              "  <thead>\n",
              "    <tr style=\"text-align: right;\">\n",
              "      <th></th>\n",
              "      <th>price</th>\n",
              "      <th>minimum_nights</th>\n",
              "      <th>number_of_reviews</th>\n",
              "      <th>reviews_per_month</th>\n",
              "      <th>calculated_host_listings_count</th>\n",
              "      <th>availability_365</th>\n",
              "    </tr>\n",
              "  </thead>\n",
              "  <tbody>\n",
              "    <tr>\n",
              "      <th>count</th>\n",
              "      <td>22100.000000</td>\n",
              "      <td>22100.000000</td>\n",
              "      <td>22100.000000</td>\n",
              "      <td>15962.000000</td>\n",
              "      <td>22100.000000</td>\n",
              "      <td>22100.000000</td>\n",
              "    </tr>\n",
              "    <tr>\n",
              "      <th>mean</th>\n",
              "      <td>322.254389</td>\n",
              "      <td>53.436606</td>\n",
              "      <td>20.211946</td>\n",
              "      <td>0.878738</td>\n",
              "      <td>10.580362</td>\n",
              "      <td>100.163303</td>\n",
              "    </tr>\n",
              "    <tr>\n",
              "      <th>std</th>\n",
              "      <td>972.621439</td>\n",
              "      <td>53.572724</td>\n",
              "      <td>47.838680</td>\n",
              "      <td>1.291013</td>\n",
              "      <td>30.624311</td>\n",
              "      <td>126.555765</td>\n",
              "    </tr>\n",
              "    <tr>\n",
              "      <th>min</th>\n",
              "      <td>12.000000</td>\n",
              "      <td>1.000000</td>\n",
              "      <td>0.000000</td>\n",
              "      <td>0.010000</td>\n",
              "      <td>1.000000</td>\n",
              "      <td>0.000000</td>\n",
              "    </tr>\n",
              "    <tr>\n",
              "      <th>25%</th>\n",
              "      <td>93.000000</td>\n",
              "      <td>3.000000</td>\n",
              "      <td>0.000000</td>\n",
              "      <td>0.060000</td>\n",
              "      <td>1.000000</td>\n",
              "      <td>0.000000</td>\n",
              "    </tr>\n",
              "    <tr>\n",
              "      <th>50%</th>\n",
              "      <td>172.000000</td>\n",
              "      <td>90.000000</td>\n",
              "      <td>3.000000</td>\n",
              "      <td>0.300000</td>\n",
              "      <td>1.000000</td>\n",
              "      <td>32.000000</td>\n",
              "    </tr>\n",
              "    <tr>\n",
              "      <th>75%</th>\n",
              "      <td>314.000000</td>\n",
              "      <td>90.000000</td>\n",
              "      <td>16.000000</td>\n",
              "      <td>1.250000</td>\n",
              "      <td>3.000000</td>\n",
              "      <td>180.000000</td>\n",
              "    </tr>\n",
              "    <tr>\n",
              "      <th>max</th>\n",
              "      <td>63537.000000</td>\n",
              "      <td>1125.000000</td>\n",
              "      <td>859.000000</td>\n",
              "      <td>21.960000</td>\n",
              "      <td>197.000000</td>\n",
              "      <td>365.000000</td>\n",
              "    </tr>\n",
              "  </tbody>\n",
              "</table>\n",
              "</div>\n",
              "      <button class=\"colab-df-convert\" onclick=\"convertToInteractive('df-85cd51df-e751-456c-a4a1-97fbea4a378a')\"\n",
              "              title=\"Convert this dataframe to an interactive table.\"\n",
              "              style=\"display:none;\">\n",
              "        \n",
              "  <svg xmlns=\"http://www.w3.org/2000/svg\" height=\"24px\"viewBox=\"0 0 24 24\"\n",
              "       width=\"24px\">\n",
              "    <path d=\"M0 0h24v24H0V0z\" fill=\"none\"/>\n",
              "    <path d=\"M18.56 5.44l.94 2.06.94-2.06 2.06-.94-2.06-.94-.94-2.06-.94 2.06-2.06.94zm-11 1L8.5 8.5l.94-2.06 2.06-.94-2.06-.94L8.5 2.5l-.94 2.06-2.06.94zm10 10l.94 2.06.94-2.06 2.06-.94-2.06-.94-.94-2.06-.94 2.06-2.06.94z\"/><path d=\"M17.41 7.96l-1.37-1.37c-.4-.4-.92-.59-1.43-.59-.52 0-1.04.2-1.43.59L10.3 9.45l-7.72 7.72c-.78.78-.78 2.05 0 2.83L4 21.41c.39.39.9.59 1.41.59.51 0 1.02-.2 1.41-.59l7.78-7.78 2.81-2.81c.8-.78.8-2.07 0-2.86zM5.41 20L4 18.59l7.72-7.72 1.47 1.35L5.41 20z\"/>\n",
              "  </svg>\n",
              "      </button>\n",
              "      \n",
              "  <style>\n",
              "    .colab-df-container {\n",
              "      display:flex;\n",
              "      flex-wrap:wrap;\n",
              "      gap: 12px;\n",
              "    }\n",
              "\n",
              "    .colab-df-convert {\n",
              "      background-color: #E8F0FE;\n",
              "      border: none;\n",
              "      border-radius: 50%;\n",
              "      cursor: pointer;\n",
              "      display: none;\n",
              "      fill: #1967D2;\n",
              "      height: 32px;\n",
              "      padding: 0 0 0 0;\n",
              "      width: 32px;\n",
              "    }\n",
              "\n",
              "    .colab-df-convert:hover {\n",
              "      background-color: #E2EBFA;\n",
              "      box-shadow: 0px 1px 2px rgba(60, 64, 67, 0.3), 0px 1px 3px 1px rgba(60, 64, 67, 0.15);\n",
              "      fill: #174EA6;\n",
              "    }\n",
              "\n",
              "    [theme=dark] .colab-df-convert {\n",
              "      background-color: #3B4455;\n",
              "      fill: #D2E3FC;\n",
              "    }\n",
              "\n",
              "    [theme=dark] .colab-df-convert:hover {\n",
              "      background-color: #434B5C;\n",
              "      box-shadow: 0px 1px 3px 1px rgba(0, 0, 0, 0.15);\n",
              "      filter: drop-shadow(0px 1px 2px rgba(0, 0, 0, 0.3));\n",
              "      fill: #FFFFFF;\n",
              "    }\n",
              "  </style>\n",
              "\n",
              "      <script>\n",
              "        const buttonEl =\n",
              "          document.querySelector('#df-85cd51df-e751-456c-a4a1-97fbea4a378a button.colab-df-convert');\n",
              "        buttonEl.style.display =\n",
              "          google.colab.kernel.accessAllowed ? 'block' : 'none';\n",
              "\n",
              "        async function convertToInteractive(key) {\n",
              "          const element = document.querySelector('#df-85cd51df-e751-456c-a4a1-97fbea4a378a');\n",
              "          const dataTable =\n",
              "            await google.colab.kernel.invokeFunction('convertToInteractive',\n",
              "                                                     [key], {});\n",
              "          if (!dataTable) return;\n",
              "\n",
              "          const docLinkHtml = 'Like what you see? Visit the ' +\n",
              "            '<a target=\"_blank\" href=https://colab.research.google.com/notebooks/data_table.ipynb>data table notebook</a>'\n",
              "            + ' to learn more about interactive tables.';\n",
              "          element.innerHTML = '';\n",
              "          dataTable['output_type'] = 'display_data';\n",
              "          await google.colab.output.renderOutput(dataTable, element);\n",
              "          const docLink = document.createElement('div');\n",
              "          docLink.innerHTML = docLinkHtml;\n",
              "          element.appendChild(docLink);\n",
              "        }\n",
              "      </script>\n",
              "    </div>\n",
              "  </div>\n",
              "  "
            ]
          },
          "metadata": {},
          "execution_count": 16
        }
      ]
    },
    {
      "cell_type": "markdown",
      "source": [
        "Looking the statistical summary, we can state some hypothesis like:\n",
        "* `price`variable has 75% of their values below 314. However the highest price is 63537.\n",
        "* The minimum nights quantity (`minimum_nights`) is above 2 years.\n",
        "* Only 25% of the places has a focus on short term periods (3 days) while 75% has a 3 months periods.\n",
        "\n",
        "#### Boxplot for minimum_nights"
      ],
      "metadata": {
        "id": "wN5QW36yPUFP"
      }
    },
    {
      "cell_type": "code",
      "source": [
        "#boxplot for minimum_nights\n",
        "df.minimum_nights.plot(kind='box', vert = False, figsize=(15,5))\n",
        "plt.show()\n",
        "\n",
        "#check the quantity over 90 days for minimum_nights\n",
        "period = 90\n",
        "print ('Minimum nights: values over', str(period), 'days:')\n",
        "print ('entries: {}'.format(len(df[df.minimum_nights > period])))\n",
        "print(\"{:.4f}%\".format((len(df[df.minimum_nights > period]) / df.shape[0])*100))"
      ],
      "metadata": {
        "colab": {
          "base_uri": "https://localhost:8080/",
          "height": 372
        },
        "id": "Qa8KsthjSKjI",
        "outputId": "d8d59b1b-ab22-4982-bae6-f65636797706"
      },
      "execution_count": null,
      "outputs": [
        {
          "output_type": "display_data",
          "data": {
            "text/plain": [
              "<Figure size 1080x360 with 1 Axes>"
            ],
            "image/png": "[encoded data removed]"
          },
          "metadata": {
            "needs_background": "light"
          }
        },
        {
          "output_type": "stream",
          "name": "stdout",
          "text": [
            "Minimum nights: values over 90 days:\n",
            "entries: 202\n",
            "0.9140%\n"
          ]
        }
      ]
    },
    {
      "cell_type": "markdown",
      "source": [
        "#### Boxplot for price"
      ],
      "metadata": {
        "id": "8wSPd2HnV7LE"
      }
    },
    {
      "cell_type": "code",
      "source": [
        "#boxplot for price\n",
        "df.price.plot(kind='box', vert=False, figsize=(15, 5),)\n",
        "plt.show()\n",
        "\n",
        "#check entries above 2500\n",
        "value = 2500\n",
        "print('\\nprice: values above', str(value))\n",
        "print('Entries: {}'.format(len(df[df.price > value])))\n",
        "print(\"{:.4f}%\".format((len(df[df.price > value]) / df.shape[0])*100))\n"
      ],
      "metadata": {
        "colab": {
          "base_uri": "https://localhost:8080/",
          "height": 389
        },
        "id": "dl4paTtQWEVQ",
        "outputId": "ede63793-c0d3-493d-be35-817377d9a23a"
      },
      "execution_count": null,
      "outputs": [
        {
          "output_type": "display_data",
          "data": {
            "text/plain": [
              "<Figure size 1080x360 with 1 Axes>"
            ],
            "image/png": "[encoded data removed]"
          },
          "metadata": {
            "needs_background": "light"
          }
        },
        {
          "output_type": "stream",
          "name": "stdout",
          "text": [
            "\n",
            "price: values above 2500\n",
            "Entries: 194\n",
            "0.8778%\n"
          ]
        }
      ]
    },
    {
      "cell_type": "markdown",
      "source": [
        "### Histograms on Outliers\n",
        "Since we have identified outliers in the `price` and `minimum_nights` variables, let's now clear the DataFrame and replot the histogram.\n"
      ],
      "metadata": {
        "id": "s68YeOATaZef"
      }
    },
    {
      "cell_type": "code",
      "source": [
        "#remove outliers in a new Dataframe\n",
        "df_clean= df.copy()\n",
        "df_clean.drop(df_clean[df_clean.price > value].index, axis=0, inplace=True)\n",
        "df_clean.drop(df_clean[df_clean.minimum_nights > period].index, axis=0 ,inplace=True)\n",
        "\n",
        "#remove `neighbourhood_group` since it is empty\n",
        "df_clean.drop('neighbourhood_group', axis=1, inplace=True)\n",
        "\n",
        "#plot histogram for the numerical variables\n",
        "df_clean.hist(bins=15, figsize=(15,10));"
      ],
      "metadata": {
        "colab": {
          "base_uri": "https://localhost:8080/",
          "height": 607
        },
        "id": "C_alUf2SasNr",
        "outputId": "22798025-c6fd-4983-e254-8a5df6bc95be"
      },
      "execution_count": null,
      "outputs": [
        {
          "output_type": "display_data",
          "data": {
            "text/plain": [
              "<Figure size 1080x720 with 12 Axes>"
            ],
            "image/png": "[encoded data removed]"
          },
          "metadata": {
            "needs_background": "light"
          }
        }
      ]
    },
    {
      "cell_type": "code",
      "source": [
        "# see the statistical summary of numeric variables after removing the outliers\n",
        "df_clean[['price', 'minimum_nights', 'number_of_reviews', 'reviews_per_month', 'calculated_host_listings_count', 'availability_365']].describe()"
      ],
      "metadata": {
        "colab": {
          "base_uri": "https://localhost:8080/",
          "height": 300
        },
        "id": "j13yUneNwczC",
        "outputId": "3a317127-8b71-47be-da31-6254228aee0f"
      },
      "execution_count": null,
      "outputs": [
        {
          "output_type": "execute_result",
          "data": {
            "text/plain": [
              "              price  minimum_nights  number_of_reviews  reviews_per_month  \\\n",
              "count  21708.000000    21708.000000       21708.000000       15769.000000   \n",
              "mean     272.981021       51.504745          20.349825           0.883409   \n",
              "std      316.781517       42.874779          48.015716           1.295372   \n",
              "min       12.000000        1.000000           0.000000           0.010000   \n",
              "25%       93.000000        3.000000           0.000000           0.060000   \n",
              "50%      170.000000       90.000000           3.000000           0.300000   \n",
              "75%      307.000000       90.000000          16.000000           1.260000   \n",
              "max     2500.000000       90.000000         859.000000          21.960000   \n",
              "\n",
              "       calculated_host_listings_count  availability_365  \n",
              "count                    21708.000000      21708.000000  \n",
              "mean                        10.460568         98.781601  \n",
              "std                         30.609931        125.875064  \n",
              "min                          1.000000          0.000000  \n",
              "25%                          1.000000          0.000000  \n",
              "50%                          1.000000         29.000000  \n",
              "75%                          3.000000        179.000000  \n",
              "max                        197.000000        365.000000  "
            ],
            "text/html": [
              "\n",
              "  <div id=\"df-03c923ae-5405-4a98-ad90-9e4134092b47\">\n",
              "    <div class=\"colab-df-container\">\n",
              "      <div>\n",
              "<style scoped>\n",
              "    .dataframe tbody tr th:only-of-type {\n",
              "        vertical-align: middle;\n",
              "    }\n",
              "\n",
              "    .dataframe tbody tr th {\n",
              "        vertical-align: top;\n",
              "    }\n",
              "\n",
              "    .dataframe thead th {\n",
              "        text-align: right;\n",
              "    }\n",
              "</style>\n",
              "<table border=\"1\" class=\"dataframe\">\n",
              "  <thead>\n",
              "    <tr style=\"text-align: right;\">\n",
              "      <th></th>\n",
              "      <th>price</th>\n",
              "      <th>minimum_nights</th>\n",
              "      <th>number_of_reviews</th>\n",
              "      <th>reviews_per_month</th>\n",
              "      <th>calculated_host_listings_count</th>\n",
              "      <th>availability_365</th>\n",
              "    </tr>\n",
              "  </thead>\n",
              "  <tbody>\n",
              "    <tr>\n",
              "      <th>count</th>\n",
              "      <td>21708.000000</td>\n",
              "      <td>21708.000000</td>\n",
              "      <td>21708.000000</td>\n",
              "      <td>15769.000000</td>\n",
              "      <td>21708.000000</td>\n",
              "      <td>21708.000000</td>\n",
              "    </tr>\n",
              "    <tr>\n",
              "      <th>mean</th>\n",
              "      <td>272.981021</td>\n",
              "      <td>51.504745</td>\n",
              "      <td>20.349825</td>\n",
              "      <td>0.883409</td>\n",
              "      <td>10.460568</td>\n",
              "      <td>98.781601</td>\n",
              "    </tr>\n",
              "    <tr>\n",
              "      <th>std</th>\n",
              "      <td>316.781517</td>\n",
              "      <td>42.874779</td>\n",
              "      <td>48.015716</td>\n",
              "      <td>1.295372</td>\n",
              "      <td>30.609931</td>\n",
              "      <td>125.875064</td>\n",
              "    </tr>\n",
              "    <tr>\n",
              "      <th>min</th>\n",
              "      <td>12.000000</td>\n",
              "      <td>1.000000</td>\n",
              "      <td>0.000000</td>\n",
              "      <td>0.010000</td>\n",
              "      <td>1.000000</td>\n",
              "      <td>0.000000</td>\n",
              "    </tr>\n",
              "    <tr>\n",
              "      <th>25%</th>\n",
              "      <td>93.000000</td>\n",
              "      <td>3.000000</td>\n",
              "      <td>0.000000</td>\n",
              "      <td>0.060000</td>\n",
              "      <td>1.000000</td>\n",
              "      <td>0.000000</td>\n",
              "    </tr>\n",
              "    <tr>\n",
              "      <th>50%</th>\n",
              "      <td>170.000000</td>\n",
              "      <td>90.000000</td>\n",
              "      <td>3.000000</td>\n",
              "      <td>0.300000</td>\n",
              "      <td>1.000000</td>\n",
              "      <td>29.000000</td>\n",
              "    </tr>\n",
              "    <tr>\n",
              "      <th>75%</th>\n",
              "      <td>307.000000</td>\n",
              "      <td>90.000000</td>\n",
              "      <td>16.000000</td>\n",
              "      <td>1.260000</td>\n",
              "      <td>3.000000</td>\n",
              "      <td>179.000000</td>\n",
              "    </tr>\n",
              "    <tr>\n",
              "      <th>max</th>\n",
              "      <td>2500.000000</td>\n",
              "      <td>90.000000</td>\n",
              "      <td>859.000000</td>\n",
              "      <td>21.960000</td>\n",
              "      <td>197.000000</td>\n",
              "      <td>365.000000</td>\n",
              "    </tr>\n",
              "  </tbody>\n",
              "</table>\n",
              "</div>\n",
              "      <button class=\"colab-df-convert\" onclick=\"convertToInteractive('df-03c923ae-5405-4a98-ad90-9e4134092b47')\"\n",
              "              title=\"Convert this dataframe to an interactive table.\"\n",
              "              style=\"display:none;\">\n",
              "        \n",
              "  <svg xmlns=\"http://www.w3.org/2000/svg\" height=\"24px\"viewBox=\"0 0 24 24\"\n",
              "       width=\"24px\">\n",
              "    <path d=\"M0 0h24v24H0V0z\" fill=\"none\"/>\n",
              "    <path d=\"M18.56 5.44l.94 2.06.94-2.06 2.06-.94-2.06-.94-.94-2.06-.94 2.06-2.06.94zm-11 1L8.5 8.5l.94-2.06 2.06-.94-2.06-.94L8.5 2.5l-.94 2.06-2.06.94zm10 10l.94 2.06.94-2.06 2.06-.94-2.06-.94-.94-2.06-.94 2.06-2.06.94z\"/><path d=\"M17.41 7.96l-1.37-1.37c-.4-.4-.92-.59-1.43-.59-.52 0-1.04.2-1.43.59L10.3 9.45l-7.72 7.72c-.78.78-.78 2.05 0 2.83L4 21.41c.39.39.9.59 1.41.59.51 0 1.02-.2 1.41-.59l7.78-7.78 2.81-2.81c.8-.78.8-2.07 0-2.86zM5.41 20L4 18.59l7.72-7.72 1.47 1.35L5.41 20z\"/>\n",
              "  </svg>\n",
              "      </button>\n",
              "      \n",
              "  <style>\n",
              "    .colab-df-container {\n",
              "      display:flex;\n",
              "      flex-wrap:wrap;\n",
              "      gap: 12px;\n",
              "    }\n",
              "\n",
              "    .colab-df-convert {\n",
              "      background-color: #E8F0FE;\n",
              "      border: none;\n",
              "      border-radius: 50%;\n",
              "      cursor: pointer;\n",
              "      display: none;\n",
              "      fill: #1967D2;\n",
              "      height: 32px;\n",
              "      padding: 0 0 0 0;\n",
              "      width: 32px;\n",
              "    }\n",
              "\n",
              "    .colab-df-convert:hover {\n",
              "      background-color: #E2EBFA;\n",
              "      box-shadow: 0px 1px 2px rgba(60, 64, 67, 0.3), 0px 1px 3px 1px rgba(60, 64, 67, 0.15);\n",
              "      fill: #174EA6;\n",
              "    }\n",
              "\n",
              "    [theme=dark] .colab-df-convert {\n",
              "      background-color: #3B4455;\n",
              "      fill: #D2E3FC;\n",
              "    }\n",
              "\n",
              "    [theme=dark] .colab-df-convert:hover {\n",
              "      background-color: #434B5C;\n",
              "      box-shadow: 0px 1px 3px 1px rgba(0, 0, 0, 0.15);\n",
              "      filter: drop-shadow(0px 1px 2px rgba(0, 0, 0, 0.3));\n",
              "      fill: #FFFFFF;\n",
              "    }\n",
              "  </style>\n",
              "\n",
              "      <script>\n",
              "        const buttonEl =\n",
              "          document.querySelector('#df-03c923ae-5405-4a98-ad90-9e4134092b47 button.colab-df-convert');\n",
              "        buttonEl.style.display =\n",
              "          google.colab.kernel.accessAllowed ? 'block' : 'none';\n",
              "\n",
              "        async function convertToInteractive(key) {\n",
              "          const element = document.querySelector('#df-03c923ae-5405-4a98-ad90-9e4134092b47');\n",
              "          const dataTable =\n",
              "            await google.colab.kernel.invokeFunction('convertToInteractive',\n",
              "                                                     [key], {});\n",
              "          if (!dataTable) return;\n",
              "\n",
              "          const docLinkHtml = 'Like what you see? Visit the ' +\n",
              "            '<a target=\"_blank\" href=https://colab.research.google.com/notebooks/data_table.ipynb>data table notebook</a>'\n",
              "            + ' to learn more about interactive tables.';\n",
              "          element.innerHTML = '';\n",
              "          dataTable['output_type'] = 'display_data';\n",
              "          await google.colab.output.renderOutput(dataTable, element);\n",
              "          const docLink = document.createElement('div');\n",
              "          docLink.innerHTML = docLinkHtml;\n",
              "          element.appendChild(docLink);\n",
              "        }\n",
              "      </script>\n",
              "    </div>\n",
              "  </div>\n",
              "  "
            ]
          },
          "metadata": {},
          "execution_count": 99
        }
      ]
    },
    {
      "cell_type": "markdown",
      "metadata": {
        "id": "IXn2oIo5qx-w"
      },
      "source": [
        "### **Q5. What is the correlation between the variables**\n",
        "\n",
        "Correlation means that there is a relationship between two things. In our context, we are looking for a relationship or similarity between two variables.\n",
        "\n",
        "This relationship can be measured, and it is a function of the correlation coefficient to establish how strong it is. To identify existing correlations between the variables of interest, I will:\n",
        "\n",
        "Create a correlation matrix\n",
        "Generate a heatmap from this matrix, using the seaborn library\n",
        "\n",
        "> Indented block\n",
        "\n"
      ]
    },
    {
      "cell_type": "code",
      "metadata": {
        "id": "x2ayzBajqxyd",
        "colab": {
          "base_uri": "https://localhost:8080/",
          "height": 238
        },
        "outputId": "e0584e31-d4a8-4a6e-c2bd-b9a9b439573d"
      },
      "source": [
        "# create a correlation matrix\n",
        "corr = df_clean[['price', 'minimum_nights', 'number_of_reviews', 'reviews_per_month',\n",
        "    'calculated_host_listings_count', 'availability_365']].corr()\n",
        "# show correlation matrix\n",
        "display(corr)"
      ],
      "execution_count": null,
      "outputs": [
        {
          "output_type": "display_data",
          "data": {
            "text/plain": [
              "                                   price  minimum_nights  number_of_reviews  \\\n",
              "price                           1.000000       -0.282682          -0.054703   \n",
              "minimum_nights                 -0.282682        1.000000          -0.279183   \n",
              "number_of_reviews              -0.054703       -0.279183           1.000000   \n",
              "reviews_per_month               0.020068       -0.527664           0.584948   \n",
              "calculated_host_listings_count  0.162811       -0.226904          -0.031198   \n",
              "availability_365                0.173111       -0.366106           0.143767   \n",
              "\n",
              "                                reviews_per_month  \\\n",
              "price                                    0.020068   \n",
              "minimum_nights                          -0.527664   \n",
              "number_of_reviews                        0.584948   \n",
              "reviews_per_month                        1.000000   \n",
              "calculated_host_listings_count           0.046337   \n",
              "availability_365                         0.254830   \n",
              "\n",
              "                                calculated_host_listings_count  \\\n",
              "price                                                 0.162811   \n",
              "minimum_nights                                       -0.226904   \n",
              "number_of_reviews                                    -0.031198   \n",
              "reviews_per_month                                     0.046337   \n",
              "calculated_host_listings_count                        1.000000   \n",
              "availability_365                                      0.175324   \n",
              "\n",
              "                                availability_365  \n",
              "price                                   0.173111  \n",
              "minimum_nights                         -0.366106  \n",
              "number_of_reviews                       0.143767  \n",
              "reviews_per_month                       0.254830  \n",
              "calculated_host_listings_count          0.175324  \n",
              "availability_365                        1.000000  "
            ],
            "text/html": [
              "\n",
              "  <div id=\"df-09576a34-ed40-48a0-9a1d-f4e32cbec67d\">\n",
              "    <div class=\"colab-df-container\">\n",
              "      <div>\n",
              "<style scoped>\n",
              "    .dataframe tbody tr th:only-of-type {\n",
              "        vertical-align: middle;\n",
              "    }\n",
              "\n",
              "    .dataframe tbody tr th {\n",
              "        vertical-align: top;\n",
              "    }\n",
              "\n",
              "    .dataframe thead th {\n",
              "        text-align: right;\n",
              "    }\n",
              "</style>\n",
              "<table border=\"1\" class=\"dataframe\">\n",
              "  <thead>\n",
              "    <tr style=\"text-align: right;\">\n",
              "      <th></th>\n",
              "      <th>price</th>\n",
              "      <th>minimum_nights</th>\n",
              "      <th>number_of_reviews</th>\n",
              "      <th>reviews_per_month</th>\n",
              "      <th>calculated_host_listings_count</th>\n",
              "      <th>availability_365</th>\n",
              "    </tr>\n",
              "  </thead>\n",
              "  <tbody>\n",
              "    <tr>\n",
              "      <th>price</th>\n",
              "      <td>1.000000</td>\n",
              "      <td>-0.282682</td>\n",
              "      <td>-0.054703</td>\n",
              "      <td>0.020068</td>\n",
              "      <td>0.162811</td>\n",
              "      <td>0.173111</td>\n",
              "    </tr>\n",
              "    <tr>\n",
              "      <th>minimum_nights</th>\n",
              "      <td>-0.282682</td>\n",
              "      <td>1.000000</td>\n",
              "      <td>-0.279183</td>\n",
              "      <td>-0.527664</td>\n",
              "      <td>-0.226904</td>\n",
              "      <td>-0.366106</td>\n",
              "    </tr>\n",
              "    <tr>\n",
              "      <th>number_of_reviews</th>\n",
              "      <td>-0.054703</td>\n",
              "      <td>-0.279183</td>\n",
              "      <td>1.000000</td>\n",
              "      <td>0.584948</td>\n",
              "      <td>-0.031198</td>\n",
              "      <td>0.143767</td>\n",
              "    </tr>\n",
              "    <tr>\n",
              "      <th>reviews_per_month</th>\n",
              "      <td>0.020068</td>\n",
              "      <td>-0.527664</td>\n",
              "      <td>0.584948</td>\n",
              "      <td>1.000000</td>\n",
              "      <td>0.046337</td>\n",
              "      <td>0.254830</td>\n",
              "    </tr>\n",
              "    <tr>\n",
              "      <th>calculated_host_listings_count</th>\n",
              "      <td>0.162811</td>\n",
              "      <td>-0.226904</td>\n",
              "      <td>-0.031198</td>\n",
              "      <td>0.046337</td>\n",
              "      <td>1.000000</td>\n",
              "      <td>0.175324</td>\n",
              "    </tr>\n",
              "    <tr>\n",
              "      <th>availability_365</th>\n",
              "      <td>0.173111</td>\n",
              "      <td>-0.366106</td>\n",
              "      <td>0.143767</td>\n",
              "      <td>0.254830</td>\n",
              "      <td>0.175324</td>\n",
              "      <td>1.000000</td>\n",
              "    </tr>\n",
              "  </tbody>\n",
              "</table>\n",
              "</div>\n",
              "      <button class=\"colab-df-convert\" onclick=\"convertToInteractive('df-09576a34-ed40-48a0-9a1d-f4e32cbec67d')\"\n",
              "              title=\"Convert this dataframe to an interactive table.\"\n",
              "              style=\"display:none;\">\n",
              "        \n",
              "  <svg xmlns=\"http://www.w3.org/2000/svg\" height=\"24px\"viewBox=\"0 0 24 24\"\n",
              "       width=\"24px\">\n",
              "    <path d=\"M0 0h24v24H0V0z\" fill=\"none\"/>\n",
              "    <path d=\"M18.56 5.44l.94 2.06.94-2.06 2.06-.94-2.06-.94-.94-2.06-.94 2.06-2.06.94zm-11 1L8.5 8.5l.94-2.06 2.06-.94-2.06-.94L8.5 2.5l-.94 2.06-2.06.94zm10 10l.94 2.06.94-2.06 2.06-.94-2.06-.94-.94-2.06-.94 2.06-2.06.94z\"/><path d=\"M17.41 7.96l-1.37-1.37c-.4-.4-.92-.59-1.43-.59-.52 0-1.04.2-1.43.59L10.3 9.45l-7.72 7.72c-.78.78-.78 2.05 0 2.83L4 21.41c.39.39.9.59 1.41.59.51 0 1.02-.2 1.41-.59l7.78-7.78 2.81-2.81c.8-.78.8-2.07 0-2.86zM5.41 20L4 18.59l7.72-7.72 1.47 1.35L5.41 20z\"/>\n",
              "  </svg>\n",
              "      </button>\n",
              "      \n",
              "  <style>\n",
              "    .colab-df-container {\n",
              "      display:flex;\n",
              "      flex-wrap:wrap;\n",
              "      gap: 12px;\n",
              "    }\n",
              "\n",
              "    .colab-df-convert {\n",
              "      background-color: #E8F0FE;\n",
              "      border: none;\n",
              "      border-radius: 50%;\n",
              "      cursor: pointer;\n",
              "      display: none;\n",
              "      fill: #1967D2;\n",
              "      height: 32px;\n",
              "      padding: 0 0 0 0;\n",
              "      width: 32px;\n",
              "    }\n",
              "\n",
              "    .colab-df-convert:hover {\n",
              "      background-color: #E2EBFA;\n",
              "      box-shadow: 0px 1px 2px rgba(60, 64, 67, 0.3), 0px 1px 3px 1px rgba(60, 64, 67, 0.15);\n",
              "      fill: #174EA6;\n",
              "    }\n",
              "\n",
              "    [theme=dark] .colab-df-convert {\n",
              "      background-color: #3B4455;\n",
              "      fill: #D2E3FC;\n",
              "    }\n",
              "\n",
              "    [theme=dark] .colab-df-convert:hover {\n",
              "      background-color: #434B5C;\n",
              "      box-shadow: 0px 1px 3px 1px rgba(0, 0, 0, 0.15);\n",
              "      filter: drop-shadow(0px 1px 2px rgba(0, 0, 0, 0.3));\n",
              "      fill: #FFFFFF;\n",
              "    }\n",
              "  </style>\n",
              "\n",
              "      <script>\n",
              "        const buttonEl =\n",
              "          document.querySelector('#df-09576a34-ed40-48a0-9a1d-f4e32cbec67d button.colab-df-convert');\n",
              "        buttonEl.style.display =\n",
              "          google.colab.kernel.accessAllowed ? 'block' : 'none';\n",
              "\n",
              "        async function convertToInteractive(key) {\n",
              "          const element = document.querySelector('#df-09576a34-ed40-48a0-9a1d-f4e32cbec67d');\n",
              "          const dataTable =\n",
              "            await google.colab.kernel.invokeFunction('convertToInteractive',\n",
              "                                                     [key], {});\n",
              "          if (!dataTable) return;\n",
              "\n",
              "          const docLinkHtml = 'Like what you see? Visit the ' +\n",
              "            '<a target=\"_blank\" href=https://colab.research.google.com/notebooks/data_table.ipynb>data table notebook</a>'\n",
              "            + ' to learn more about interactive tables.';\n",
              "          element.innerHTML = '';\n",
              "          dataTable['output_type'] = 'display_data';\n",
              "          await google.colab.output.renderOutput(dataTable, element);\n",
              "          const docLink = document.createElement('div');\n",
              "          docLink.innerHTML = docLinkHtml;\n",
              "          element.appendChild(docLink);\n",
              "        }\n",
              "      </script>\n",
              "    </div>\n",
              "  </div>\n",
              "  "
            ]
          },
          "metadata": {}
        }
      ]
    },
    {
      "cell_type": "code",
      "metadata": {
        "id": "91UujDr6ueqE",
        "colab": {
          "base_uri": "https://localhost:8080/",
          "height": 411
        },
        "outputId": "e4147e89-aca3-473d-a6af-6d0f4f4a9cde"
      },
      "source": [
        "# plot a heatmap based on the correlation\n",
        "sns.heatmap(corr, cmap='RdBu', fmt='.2f', square=True, linecolor='white', annot=True);"
      ],
      "execution_count": null,
      "outputs": [
        {
          "output_type": "display_data",
          "data": {
            "text/plain": [
              "<Figure size 432x288 with 2 Axes>"
            ],
            "image/png": "[encoded data removed]"
          },
          "metadata": {
            "needs_background": "light"
          }
        }
      ]
    },
    {
      "cell_type": "markdown",
      "metadata": {
        "id": "7b6RMWpuHKN-"
      },
      "source": [
        "### **Q6. What is the most popular type of property in Airbnb?**\n",
        "\n",
        "The column of the `room_type` variable indicates the type of rental that is advertised on Airbnb. If you've already rented on the site, you know that there are options for apartments/whole houses, just renting a room or even sharing a room with other people.\n",
        "\n",
        "Let's count the number of occurrences of each type of lease, using the `value_counts()` method.*italicized text*"
      ]
    },
    {
      "cell_type": "code",
      "metadata": {
        "id": "ueLPNWvPHgfB",
        "colab": {
          "base_uri": "https://localhost:8080/"
        },
        "outputId": "8ad9eaae-689e-4a22-829f-7806452e9f6e"
      },
      "source": [
        "# show quantity of each property type available\n",
        "df_clean.room_type.value_counts()"
      ],
      "execution_count": null,
      "outputs": [
        {
          "output_type": "execute_result",
          "data": {
            "text/plain": [
              "Entire home/apt    14935\n",
              "Private room        6390\n",
              "Shared room          283\n",
              "Hotel room           100\n",
              "Name: room_type, dtype: int64"
            ]
          },
          "metadata": {},
          "execution_count": 65
        }
      ]
    },
    {
      "cell_type": "code",
      "metadata": {
        "id": "EvwoO-XAHhIm",
        "colab": {
          "base_uri": "https://localhost:8080/"
        },
        "outputId": "5401a30a-dcee-479c-97d8-99debfd5e6c7"
      },
      "source": [
        "# show the percentage of each type of property available\n",
        "df_clean.room_type.value_counts() / df_clean.shape[0]"
      ],
      "execution_count": null,
      "outputs": [
        {
          "output_type": "execute_result",
          "data": {
            "text/plain": [
              "Entire home/apt    0.687995\n",
              "Private room       0.294362\n",
              "Shared room        0.013037\n",
              "Hotel room         0.004607\n",
              "Name: room_type, dtype: float64"
            ]
          },
          "metadata": {},
          "execution_count": 71
        }
      ]
    },
    {
      "cell_type": "markdown",
      "metadata": {
        "id": "MFa5NbnLJMcd"
      },
      "source": [
        "### **Q7. What is the most expensive neighbourhood on the dataset?**\n",
        "\n",
        "One way to check one variable against another is by using `groupby()`. In this case, we want to compare the neighborhoods (neighbourhoods) based on the rental price.\n",
        "\n"
      ]
    },
    {
      "cell_type": "code",
      "metadata": {
        "id": "MD_xa143JZpi",
        "colab": {
          "base_uri": "https://localhost:8080/"
        },
        "outputId": "36cc0daa-a872-478f-befd-48e2cbf1fd7f"
      },
      "source": [
        "# check average prices by neighbourhood\n",
        "df_clean.groupby(['neighbourhood']).price.mean().sort_values(ascending=False)[:20]"
      ],
      "execution_count": null,
      "outputs": [
        {
          "output_type": "execute_result",
          "data": {
            "text/plain": [
              "neighbourhood\n",
              "Pittwater           742.872105\n",
              "Mosman              510.366300\n",
              "Manly               412.967167\n",
              "Warringah           373.596859\n",
              "Woollahra           346.123472\n",
              "Sutherland Shire    340.295612\n",
              "Hunters Hill        318.620690\n",
              "Waverley            311.428224\n",
              "Leichhardt          262.664762\n",
              "Lane Cove           258.569061\n",
              "North Sydney        258.431818\n",
              "Hornsby             236.724242\n",
              "The Hills Shire     235.569565\n",
              "Randwick            234.597130\n",
              "Ku-Ring-Gai         222.637168\n",
              "Willoughby          215.770718\n",
              "Sydney              215.261031\n",
              "Penrith             203.272059\n",
              "Auburn              198.038576\n",
              "Canada Bay          190.358156\n",
              "Name: price, dtype: float64"
            ]
          },
          "metadata": {},
          "execution_count": 72
        }
      ]
    },
    {
      "cell_type": "code",
      "metadata": {
        "colab": {
          "base_uri": "https://localhost:8080/"
        },
        "outputId": "a1ff4f1a-d6f8-4747-b006-6021eb77da3c",
        "id": "8Ood972Aw92_"
      },
      "source": [
        "# check average prices by neighbourhood\n",
        "df_clean.groupby(['neighbourhood']).price.mean().sort_values(ascending=True)[:20]"
      ],
      "execution_count": null,
      "outputs": [
        {
          "output_type": "execute_result",
          "data": {
            "text/plain": [
              "neighbourhood\n",
              "Bankstown          115.253086\n",
              "Fairfield          128.317308\n",
              "Parramatta         128.805310\n",
              "Blacktown          133.567961\n",
              "Rockdale           134.456221\n",
              "Burwood            134.668246\n",
              "Campbelltown       137.405797\n",
              "Canterbury         138.075221\n",
              "Ashfield           139.480226\n",
              "Hurstville         139.691729\n",
              "Strathfield        143.007463\n",
              "Ryde               148.334129\n",
              "Botany Bay         151.702970\n",
              "City Of Kogarah    158.427481\n",
              "Marrickville       159.261346\n",
              "Liverpool          166.591304\n",
              "Holroyd            174.750000\n",
              "Camden             187.215686\n",
              "Canada Bay         190.358156\n",
              "Auburn             198.038576\n",
              "Name: price, dtype: float64"
            ]
          },
          "metadata": {},
          "execution_count": 100
        }
      ]
    },
    {
      "cell_type": "markdown",
      "source": [
        "Above, we see that neighborhoods like Pittwater and Mosman, have an average price higher comparing to the rest .\n",
        "\n",
        "Although this can look as an outlier, we can notice that Pittwater figures in top6 and Mosman in top 20 when we analyse the number of properties by neighbourhood."
      ],
      "metadata": {
        "id": "ilyI4Fd3gwMi"
      }
    },
    {
      "cell_type": "code",
      "source": [
        "#check the average properties by neighbourhood\n",
        "df_clean.neighbourhood.value_counts()\n"
      ],
      "metadata": {
        "colab": {
          "base_uri": "https://localhost:8080/"
        },
        "id": "4R1_3DgznAbv",
        "outputId": "b86d4dd4-22d8-4e5e-ff5d-e75f42a68ec4"
      },
      "execution_count": null,
      "outputs": [
        {
          "output_type": "execute_result",
          "data": {
            "text/plain": [
              "Sydney              4850\n",
              "Waverley            2877\n",
              "Randwick            1812\n",
              "Warringah           1146\n",
              "Manly               1066\n",
              "Pittwater            993\n",
              "Woollahra            818\n",
              "North Sydney         792\n",
              "Marrickville         639\n",
              "Leichhardt           525\n",
              "Rockdale             434\n",
              "Sutherland Shire     433\n",
              "Ryde                 419\n",
              "Botany Bay           404\n",
              "Willoughby           362\n",
              "Parramatta           339\n",
              "Auburn               337\n",
              "Hornsby              330\n",
              "Canada Bay           282\n",
              "Mosman               273\n",
              "The Hills Shire      230\n",
              "Canterbury           226\n",
              "Ku-Ring-Gai          226\n",
              "Burwood              211\n",
              "Blacktown            206\n",
              "Lane Cove            181\n",
              "Ashfield             177\n",
              "Bankstown            162\n",
              "Penrith              136\n",
              "Strathfield          134\n",
              "Hurstville           133\n",
              "City Of Kogarah      131\n",
              "Liverpool            115\n",
              "Fairfield            104\n",
              "Campbelltown          69\n",
              "Holroyd               56\n",
              "Camden                51\n",
              "Hunters Hill          29\n",
              "Name: neighbourhood, dtype: int64"
            ]
          },
          "metadata": {},
          "execution_count": 97
        }
      ]
    },
    {
      "cell_type": "code",
      "source": [
        "#check properties quantity in Pittwater\n",
        "nb = 'Pittwater'\n",
        "print(df_clean[df_clean.neighbourhood == nb].shape)\n",
        "\n",
        "#see the entries for Pittwater\n",
        "df_clean[df_clean.neighbourhood == nb]"
      ],
      "metadata": {
        "colab": {
          "base_uri": "https://localhost:8080/",
          "height": 1000
        },
        "id": "-g3mgSf3jlOR",
        "outputId": "18bfa7df-30c1-4c2a-b3d3-324e4f3c8f34"
      },
      "execution_count": null,
      "outputs": [
        {
          "output_type": "stream",
          "name": "stdout",
          "text": [
            "(993, 16)\n"
          ]
        },
        {
          "output_type": "execute_result",
          "data": {
            "text/plain": [
              "                                                              name    host_id  \\\n",
              "id                                                                              \n",
              "587669                                    Magnificent ocean views!    2908016   \n",
              "105938                 Secret Beach Hideaway with Tropical Gardens     549372   \n",
              "909118                               Tranquil Avalon Beach Cottage    4874588   \n",
              "421997                   Leafy Studio with Tranquil Pittwater View    2098455   \n",
              "1016415                 Beautiful \"Albert Cottage\" In Avalon Beach    4551129   \n",
              "...                                                            ...        ...   \n",
              "773510650473140747                     Bilgola Plateau Garden Flat  174487363   \n",
              "774197650705108268                            The Black Tree House   23632139   \n",
              "774795202056137599                  Narrabeen Lagoon charming home  490249752   \n",
              "777043583308204934  Picturesque 4 Bed home with stunning Bay Views  235137306   \n",
              "775734517127056040                   2 Bed Leafy Sanctuary Getaway  242384262   \n",
              "\n",
              "                           host_name neighbourhood   latitude   longitude  \\\n",
              "id                                                                          \n",
              "587669                        Bobbie     Pittwater -33.603190  151.331410   \n",
              "105938                       Susanne     Pittwater -33.647930  151.317750   \n",
              "909118                         Heidi     Pittwater -33.635970  151.323850   \n",
              "421997               Leigh & Phillip     Pittwater -33.639190  151.320760   \n",
              "1016415                       Margie     Pittwater -33.621810  151.335660   \n",
              "...                              ...           ...        ...         ...   \n",
              "773510650473140747              Lucy     Pittwater -33.649005  151.313068   \n",
              "774197650705108268           Frances     Pittwater -33.653263  151.310402   \n",
              "774795202056137599              Bree     Pittwater -33.707933  151.288229   \n",
              "777043583308204934  MadeComfy Sydney     Pittwater -33.642612  151.311262   \n",
              "775734517127056040         Alexander     Pittwater -33.631543  151.325464   \n",
              "\n",
              "                          room_type  price  minimum_nights  number_of_reviews  \\\n",
              "id                                                                              \n",
              "587669              Entire home/apt    750               2                 93   \n",
              "105938              Entire home/apt    350              14                 18   \n",
              "909118              Entire home/apt    147               2                265   \n",
              "421997              Entire home/apt    190               2                154   \n",
              "1016415             Entire home/apt    250               3                279   \n",
              "...                             ...    ...             ...                ...   \n",
              "773510650473140747  Entire home/apt    227               2                  0   \n",
              "774197650705108268  Entire home/apt    800               7                  0   \n",
              "774795202056137599  Entire home/apt    253               3                  0   \n",
              "777043583308204934  Entire home/apt   1075               1                  0   \n",
              "775734517127056040  Entire home/apt    300               2                  0   \n",
              "\n",
              "                   last_review  reviews_per_month  \\\n",
              "id                                                  \n",
              "587669              2022-10-29               0.90   \n",
              "105938              2022-10-19               0.24   \n",
              "909118              2022-11-27               2.23   \n",
              "421997              2022-12-03               1.27   \n",
              "1016415             2022-01-28               2.53   \n",
              "...                        ...                ...   \n",
              "773510650473140747         NaN                NaN   \n",
              "774197650705108268         NaN                NaN   \n",
              "774795202056137599         NaN                NaN   \n",
              "777043583308204934         NaN                NaN   \n",
              "775734517127056040         NaN                NaN   \n",
              "\n",
              "                    calculated_host_listings_count  availability_365  \\\n",
              "id                                                                     \n",
              "587669                                           1                 0   \n",
              "105938                                           1               313   \n",
              "909118                                           1               297   \n",
              "421997                                           1               329   \n",
              "1016415                                          1                 6   \n",
              "...                                            ...               ...   \n",
              "773510650473140747                               1                47   \n",
              "774197650705108268                               1               334   \n",
              "774795202056137599                               1               158   \n",
              "777043583308204934                              21               365   \n",
              "775734517127056040                               1               354   \n",
              "\n",
              "                    number_of_reviews_ltm           license  \n",
              "id                                                           \n",
              "587669                                 11    PID-STRA-25259  \n",
              "105938                                  3     PID-STRA-6470  \n",
              "909118                                 59  PID-STRA-13910-1  \n",
              "421997                                 16     PID-STRA-2339  \n",
              "1016415                                 7    PID-STRA-33617  \n",
              "...                                   ...               ...  \n",
              "773510650473140747                      0    PID-STRA-45296  \n",
              "774197650705108268                      0            Exempt  \n",
              "774795202056137599                      0    PID-STRA-28690  \n",
              "777043583308204934                      0    PID-STRA-45565  \n",
              "775734517127056040                      0    PID-STRA-45594  \n",
              "\n",
              "[993 rows x 16 columns]"
            ],
            "text/html": [
              "\n",
              "  <div id=\"df-0da09396-a6d7-491b-927a-43cae1e82fd6\">\n",
              "    <div class=\"colab-df-container\">\n",
              "      <div>\n",
              "<style scoped>\n",
              "    .dataframe tbody tr th:only-of-type {\n",
              "        vertical-align: middle;\n",
              "    }\n",
              "\n",
              "    .dataframe tbody tr th {\n",
              "        vertical-align: top;\n",
              "    }\n",
              "\n",
              "    .dataframe thead th {\n",
              "        text-align: right;\n",
              "    }\n",
              "</style>\n",
              "<table border=\"1\" class=\"dataframe\">\n",
              "  <thead>\n",
              "    <tr style=\"text-align: right;\">\n",
              "      <th></th>\n",
              "      <th>name</th>\n",
              "      <th>host_id</th>\n",
              "      <th>host_name</th>\n",
              "      <th>neighbourhood</th>\n",
              "      <th>latitude</th>\n",
              "      <th>longitude</th>\n",
              "      <th>room_type</th>\n",
              "      <th>price</th>\n",
              "      <th>minimum_nights</th>\n",
              "      <th>number_of_reviews</th>\n",
              "      <th>last_review</th>\n",
              "      <th>reviews_per_month</th>\n",
              "      <th>calculated_host_listings_count</th>\n",
              "      <th>availability_365</th>\n",
              "      <th>number_of_reviews_ltm</th>\n",
              "      <th>license</th>\n",
              "    </tr>\n",
              "    <tr>\n",
              "      <th>id</th>\n",
              "      <th></th>\n",
              "      <th></th>\n",
              "      <th></th>\n",
              "      <th></th>\n",
              "      <th></th>\n",
              "      <th></th>\n",
              "      <th></th>\n",
              "      <th></th>\n",
              "      <th></th>\n",
              "      <th></th>\n",
              "      <th></th>\n",
              "      <th></th>\n",
              "      <th></th>\n",
              "      <th></th>\n",
              "      <th></th>\n",
              "      <th></th>\n",
              "    </tr>\n",
              "  </thead>\n",
              "  <tbody>\n",
              "    <tr>\n",
              "      <th>587669</th>\n",
              "      <td>Magnificent ocean views!</td>\n",
              "      <td>2908016</td>\n",
              "      <td>Bobbie</td>\n",
              "      <td>Pittwater</td>\n",
              "      <td>-33.603190</td>\n",
              "      <td>151.331410</td>\n",
              "      <td>Entire home/apt</td>\n",
              "      <td>750</td>\n",
              "      <td>2</td>\n",
              "      <td>93</td>\n",
              "      <td>2022-10-29</td>\n",
              "      <td>0.90</td>\n",
              "      <td>1</td>\n",
              "      <td>0</td>\n",
              "      <td>11</td>\n",
              "      <td>PID-STRA-25259</td>\n",
              "    </tr>\n",
              "    <tr>\n",
              "      <th>105938</th>\n",
              "      <td>Secret Beach Hideaway with Tropical Gardens</td>\n",
              "      <td>549372</td>\n",
              "      <td>Susanne</td>\n",
              "      <td>Pittwater</td>\n",
              "      <td>-33.647930</td>\n",
              "      <td>151.317750</td>\n",
              "      <td>Entire home/apt</td>\n",
              "      <td>350</td>\n",
              "      <td>14</td>\n",
              "      <td>18</td>\n",
              "      <td>2022-10-19</td>\n",
              "      <td>0.24</td>\n",
              "      <td>1</td>\n",
              "      <td>313</td>\n",
              "      <td>3</td>\n",
              "      <td>PID-STRA-6470</td>\n",
              "    </tr>\n",
              "    <tr>\n",
              "      <th>909118</th>\n",
              "      <td>Tranquil Avalon Beach Cottage</td>\n",
              "      <td>4874588</td>\n",
              "      <td>Heidi</td>\n",
              "      <td>Pittwater</td>\n",
              "      <td>-33.635970</td>\n",
              "      <td>151.323850</td>\n",
              "      <td>Entire home/apt</td>\n",
              "      <td>147</td>\n",
              "      <td>2</td>\n",
              "      <td>265</td>\n",
              "      <td>2022-11-27</td>\n",
              "      <td>2.23</td>\n",
              "      <td>1</td>\n",
              "      <td>297</td>\n",
              "      <td>59</td>\n",
              "      <td>PID-STRA-13910-1</td>\n",
              "    </tr>\n",
              "    <tr>\n",
              "      <th>421997</th>\n",
              "      <td>Leafy Studio with Tranquil Pittwater View</td>\n",
              "      <td>2098455</td>\n",
              "      <td>Leigh &amp; Phillip</td>\n",
              "      <td>Pittwater</td>\n",
              "      <td>-33.639190</td>\n",
              "      <td>151.320760</td>\n",
              "      <td>Entire home/apt</td>\n",
              "      <td>190</td>\n",
              "      <td>2</td>\n",
              "      <td>154</td>\n",
              "      <td>2022-12-03</td>\n",
              "      <td>1.27</td>\n",
              "      <td>1</td>\n",
              "      <td>329</td>\n",
              "      <td>16</td>\n",
              "      <td>PID-STRA-2339</td>\n",
              "    </tr>\n",
              "    <tr>\n",
              "      <th>1016415</th>\n",
              "      <td>Beautiful \"Albert Cottage\" In Avalon Beach</td>\n",
              "      <td>4551129</td>\n",
              "      <td>Margie</td>\n",
              "      <td>Pittwater</td>\n",
              "      <td>-33.621810</td>\n",
              "      <td>151.335660</td>\n",
              "      <td>Entire home/apt</td>\n",
              "      <td>250</td>\n",
              "      <td>3</td>\n",
              "      <td>279</td>\n",
              "      <td>2022-01-28</td>\n",
              "      <td>2.53</td>\n",
              "      <td>1</td>\n",
              "      <td>6</td>\n",
              "      <td>7</td>\n",
              "      <td>PID-STRA-33617</td>\n",
              "    </tr>\n",
              "    <tr>\n",
              "      <th>...</th>\n",
              "      <td>...</td>\n",
              "      <td>...</td>\n",
              "      <td>...</td>\n",
              "      <td>...</td>\n",
              "      <td>...</td>\n",
              "      <td>...</td>\n",
              "      <td>...</td>\n",
              "      <td>...</td>\n",
              "      <td>...</td>\n",
              "      <td>...</td>\n",
              "      <td>...</td>\n",
              "      <td>...</td>\n",
              "      <td>...</td>\n",
              "      <td>...</td>\n",
              "      <td>...</td>\n",
              "      <td>...</td>\n",
              "    </tr>\n",
              "    <tr>\n",
              "      <th>773510650473140747</th>\n",
              "      <td>Bilgola Plateau Garden Flat</td>\n",
              "      <td>174487363</td>\n",
              "      <td>Lucy</td>\n",
              "      <td>Pittwater</td>\n",
              "      <td>-33.649005</td>\n",
              "      <td>151.313068</td>\n",
              "      <td>Entire home/apt</td>\n",
              "      <td>227</td>\n",
              "      <td>2</td>\n",
              "      <td>0</td>\n",
              "      <td>NaN</td>\n",
              "      <td>NaN</td>\n",
              "      <td>1</td>\n",
              "      <td>47</td>\n",
              "      <td>0</td>\n",
              "      <td>PID-STRA-45296</td>\n",
              "    </tr>\n",
              "    <tr>\n",
              "      <th>774197650705108268</th>\n",
              "      <td>The Black Tree House</td>\n",
              "      <td>23632139</td>\n",
              "      <td>Frances</td>\n",
              "      <td>Pittwater</td>\n",
              "      <td>-33.653263</td>\n",
              "      <td>151.310402</td>\n",
              "      <td>Entire home/apt</td>\n",
              "      <td>800</td>\n",
              "      <td>7</td>\n",
              "      <td>0</td>\n",
              "      <td>NaN</td>\n",
              "      <td>NaN</td>\n",
              "      <td>1</td>\n",
              "      <td>334</td>\n",
              "      <td>0</td>\n",
              "      <td>Exempt</td>\n",
              "    </tr>\n",
              "    <tr>\n",
              "      <th>774795202056137599</th>\n",
              "      <td>Narrabeen Lagoon charming home</td>\n",
              "      <td>490249752</td>\n",
              "      <td>Bree</td>\n",
              "      <td>Pittwater</td>\n",
              "      <td>-33.707933</td>\n",
              "      <td>151.288229</td>\n",
              "      <td>Entire home/apt</td>\n",
              "      <td>253</td>\n",
              "      <td>3</td>\n",
              "      <td>0</td>\n",
              "      <td>NaN</td>\n",
              "      <td>NaN</td>\n",
              "      <td>1</td>\n",
              "      <td>158</td>\n",
              "      <td>0</td>\n",
              "      <td>PID-STRA-28690</td>\n",
              "    </tr>\n",
              "    <tr>\n",
              "      <th>777043583308204934</th>\n",
              "      <td>Picturesque 4 Bed home with stunning Bay Views</td>\n",
              "      <td>235137306</td>\n",
              "      <td>MadeComfy Sydney</td>\n",
              "      <td>Pittwater</td>\n",
              "      <td>-33.642612</td>\n",
              "      <td>151.311262</td>\n",
              "      <td>Entire home/apt</td>\n",
              "      <td>1075</td>\n",
              "      <td>1</td>\n",
              "      <td>0</td>\n",
              "      <td>NaN</td>\n",
              "      <td>NaN</td>\n",
              "      <td>21</td>\n",
              "      <td>365</td>\n",
              "      <td>0</td>\n",
              "      <td>PID-STRA-45565</td>\n",
              "    </tr>\n",
              "    <tr>\n",
              "      <th>775734517127056040</th>\n",
              "      <td>2 Bed Leafy Sanctuary Getaway</td>\n",
              "      <td>242384262</td>\n",
              "      <td>Alexander</td>\n",
              "      <td>Pittwater</td>\n",
              "      <td>-33.631543</td>\n",
              "      <td>151.325464</td>\n",
              "      <td>Entire home/apt</td>\n",
              "      <td>300</td>\n",
              "      <td>2</td>\n",
              "      <td>0</td>\n",
              "      <td>NaN</td>\n",
              "      <td>NaN</td>\n",
              "      <td>1</td>\n",
              "      <td>354</td>\n",
              "      <td>0</td>\n",
              "      <td>PID-STRA-45594</td>\n",
              "    </tr>\n",
              "  </tbody>\n",
              "</table>\n",
              "<p>993 rows × 16 columns</p>\n",
              "</div>\n",
              "      <button class=\"colab-df-convert\" onclick=\"convertToInteractive('df-0da09396-a6d7-491b-927a-43cae1e82fd6')\"\n",
              "              title=\"Convert this dataframe to an interactive table.\"\n",
              "              style=\"display:none;\">\n",
              "        \n",
              "  <svg xmlns=\"http://www.w3.org/2000/svg\" height=\"24px\"viewBox=\"0 0 24 24\"\n",
              "       width=\"24px\">\n",
              "    <path d=\"M0 0h24v24H0V0z\" fill=\"none\"/>\n",
              "    <path d=\"M18.56 5.44l.94 2.06.94-2.06 2.06-.94-2.06-.94-.94-2.06-.94 2.06-2.06.94zm-11 1L8.5 8.5l.94-2.06 2.06-.94-2.06-.94L8.5 2.5l-.94 2.06-2.06.94zm10 10l.94 2.06.94-2.06 2.06-.94-2.06-.94-.94-2.06-.94 2.06-2.06.94z\"/><path d=\"M17.41 7.96l-1.37-1.37c-.4-.4-.92-.59-1.43-.59-.52 0-1.04.2-1.43.59L10.3 9.45l-7.72 7.72c-.78.78-.78 2.05 0 2.83L4 21.41c.39.39.9.59 1.41.59.51 0 1.02-.2 1.41-.59l7.78-7.78 2.81-2.81c.8-.78.8-2.07 0-2.86zM5.41 20L4 18.59l7.72-7.72 1.47 1.35L5.41 20z\"/>\n",
              "  </svg>\n",
              "      </button>\n",
              "      \n",
              "  <style>\n",
              "    .colab-df-container {\n",
              "      display:flex;\n",
              "      flex-wrap:wrap;\n",
              "      gap: 12px;\n",
              "    }\n",
              "\n",
              "    .colab-df-convert {\n",
              "      background-color: #E8F0FE;\n",
              "      border: none;\n",
              "      border-radius: 50%;\n",
              "      cursor: pointer;\n",
              "      display: none;\n",
              "      fill: #1967D2;\n",
              "      height: 32px;\n",
              "      padding: 0 0 0 0;\n",
              "      width: 32px;\n",
              "    }\n",
              "\n",
              "    .colab-df-convert:hover {\n",
              "      background-color: #E2EBFA;\n",
              "      box-shadow: 0px 1px 2px rgba(60, 64, 67, 0.3), 0px 1px 3px 1px rgba(60, 64, 67, 0.15);\n",
              "      fill: #174EA6;\n",
              "    }\n",
              "\n",
              "    [theme=dark] .colab-df-convert {\n",
              "      background-color: #3B4455;\n",
              "      fill: #D2E3FC;\n",
              "    }\n",
              "\n",
              "    [theme=dark] .colab-df-convert:hover {\n",
              "      background-color: #434B5C;\n",
              "      box-shadow: 0px 1px 3px 1px rgba(0, 0, 0, 0.15);\n",
              "      filter: drop-shadow(0px 1px 2px rgba(0, 0, 0, 0.3));\n",
              "      fill: #FFFFFF;\n",
              "    }\n",
              "  </style>\n",
              "\n",
              "      <script>\n",
              "        const buttonEl =\n",
              "          document.querySelector('#df-0da09396-a6d7-491b-927a-43cae1e82fd6 button.colab-df-convert');\n",
              "        buttonEl.style.display =\n",
              "          google.colab.kernel.accessAllowed ? 'block' : 'none';\n",
              "\n",
              "        async function convertToInteractive(key) {\n",
              "          const element = document.querySelector('#df-0da09396-a6d7-491b-927a-43cae1e82fd6');\n",
              "          const dataTable =\n",
              "            await google.colab.kernel.invokeFunction('convertToInteractive',\n",
              "                                                     [key], {});\n",
              "          if (!dataTable) return;\n",
              "\n",
              "          const docLinkHtml = 'Like what you see? Visit the ' +\n",
              "            '<a target=\"_blank\" href=https://colab.research.google.com/notebooks/data_table.ipynb>data table notebook</a>'\n",
              "            + ' to learn more about interactive tables.';\n",
              "          element.innerHTML = '';\n",
              "          dataTable['output_type'] = 'display_data';\n",
              "          await google.colab.output.renderOutput(dataTable, element);\n",
              "          const docLink = document.createElement('div');\n",
              "          docLink.innerHTML = docLinkHtml;\n",
              "          element.appendChild(docLink);\n",
              "        }\n",
              "      </script>\n",
              "    </div>\n",
              "  </div>\n",
              "  "
            ]
          },
          "metadata": {},
          "execution_count": 91
        }
      ]
    },
    {
      "cell_type": "code",
      "metadata": {
        "id": "UxVJqJ_3W59I",
        "colab": {
          "base_uri": "https://localhost:8080/",
          "height": 473
        },
        "outputId": "78367d90-4002-4c16-e60d-800c19054e16"
      },
      "source": [
        "# plot properties by latitude x longitude\n",
        "df_clean.plot(kind=\"scatter\", x='longitude', y='latitude', alpha=0.4, c=df_clean['price'], s=8,\n",
        "              cmap=plt.get_cmap('jet'), figsize=(12,8));"
      ],
      "execution_count": null,
      "outputs": [
        {
          "output_type": "display_data",
          "data": {
            "text/plain": [
              "<Figure size 864x576 with 2 Axes>"
            ],
            "image/png": "[encoded data removed]"
          },
          "metadata": {
            "needs_background": "light"
          }
        }
      ]
    },
    {
      "cell_type": "markdown",
      "metadata": {
        "id": "vTneAMRUYvr1"
      },
      "source": [
        "**Q8. What is the average for minimum nights to be hosted (minimum_nights)?**"
      ]
    },
    {
      "cell_type": "code",
      "metadata": {
        "id": "_VzNhrEgY82N",
        "colab": {
          "base_uri": "https://localhost:8080/"
        },
        "outputId": "d09d6b71-92fa-4a3b-9c68-c21828b052d2"
      },
      "source": [
        "# check the average of `minimum_nights` column\n",
        "df_clean.minimum_nights.mean()"
      ],
      "execution_count": null,
      "outputs": [
        {
          "output_type": "execute_result",
          "data": {
            "text/plain": [
              "51.504744794545786"
            ]
          },
          "metadata": {},
          "execution_count": 92
        }
      ]
    },
    {
      "cell_type": "code",
      "source": [
        "# checking the total of neighbourhoods\n",
        "df.neighbourhood.describe()"
      ],
      "metadata": {
        "colab": {
          "base_uri": "https://localhost:8080/"
        },
        "id": "bZrXUQERu9WA",
        "outputId": "fb3b31ac-160a-4ac0-9dfe-2c6c8f8f069d"
      },
      "execution_count": null,
      "outputs": [
        {
          "output_type": "execute_result",
          "data": {
            "text/plain": [
              "count      22100\n",
              "unique        38\n",
              "top       Sydney\n",
              "freq        4922\n",
              "Name: neighbourhood, dtype: object"
            ]
          },
          "metadata": {},
          "execution_count": 98
        }
      ]
    },
    {
      "cell_type": "markdown",
      "metadata": {
        "id": "GkvAg623RjoR"
      },
      "source": [
        "## Conclusion\n"
      ]
    },
    {
      "cell_type": "markdown",
      "metadata": {
        "id": "rbZ3Hsy9Ypw8"
      },
      "source": [
        "We did a superficial analysis on Airbnb database to the city of Sydney.\n",
        "\n",
        "After clean the outliers, we can conclude the main highlights are:\n",
        "* We have a bit more of 22k properties spread across 38 neighbourhood.\n",
        "\n",
        "* The average length of time someone stays is 51 days.\n",
        "\n",
        "* The most expensive place to be in average is Pittwater with an average price of $740.\n",
        "\n",
        "* The most cheaper place to be in average is Bankstown with an average price of $112.\n",
        "\n",
        "We also can notice how many owners are using Airbnb as a short-term rental tool since we have more than 75% of our data as 90 days as minimum nights to stay.\n",
        "\n",
        "Lastly, remember that this dataset is a summary version, ideal only for an initial approach. It is recommended that the full dataset, with 106 available attributes, be used in a next exploratory analysis."
      ]
    }
  ]
}